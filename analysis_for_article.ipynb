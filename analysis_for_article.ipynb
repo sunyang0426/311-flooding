{
 "cells": [
  {
   "cell_type": "code",
   "execution_count": 80,
   "metadata": {},
   "outputs": [],
   "source": [
    "import pandas as pd"
   ]
  },
  {
   "cell_type": "code",
   "execution_count": 81,
   "metadata": {},
   "outputs": [],
   "source": [
    "flood_all = pd.read_csv('flooding_all.csv')"
   ]
  },
  {
   "cell_type": "code",
   "execution_count": 83,
   "metadata": {},
   "outputs": [
    {
     "data": {
      "text/plain": [
       "Closed          20537\n",
       "Cancelled         347\n",
       "Initiated          47\n",
       "In-progress        27\n",
       "Name: status, dtype: int64"
      ]
     },
     "execution_count": 83,
     "metadata": {},
     "output_type": "execute_result"
    }
   ],
   "source": [
    "flood_all.status.value_counts()"
   ]
  },
  {
   "cell_type": "markdown",
   "metadata": {},
   "source": [
    "A: from 2010 to Feburary, 2019, Toronto 311 received 20958 calls complainting a flooding situation. Among those calls, 347 were cancelled soon after by the clients. Therefore, 311 Toronto had dealt with 20611 flooding complaints. Within a duration of 3346 days, the city averagely received 6 flooding complaints a day."
   ]
  },
  {
   "cell_type": "code",
   "execution_count": 84,
   "metadata": {},
   "outputs": [
    {
     "data": {
      "text/plain": [
       "6"
      ]
     },
     "execution_count": 84,
     "metadata": {},
     "output_type": "execute_result"
    }
   ],
   "source": [
    "20611/3346"
   ]
  },
  {
   "cell_type": "markdown",
   "metadata": {},
   "source": [
    "## Remove the cancelled calls and create a new data frame named \"clean_flood\"."
   ]
  },
  {
   "cell_type": "code",
   "execution_count": 85,
   "metadata": {},
   "outputs": [],
   "source": [
    "clean_flood = flood_all[(flood_all.status == 'Closed') | (flood_all.status == 'Initiated') | (flood_all.status == 'In-progress ')]"
   ]
  },
  {
   "cell_type": "markdown",
   "metadata": {},
   "source": [
    "Intersections that are more flooded"
   ]
  },
  {
   "cell_type": "code",
   "execution_count": 110,
   "metadata": {},
   "outputs": [],
   "source": [
    "intersection = clean_flood[clean_flood.first_3_chars_of_postal_code == 'Intersection']"
   ]
  },
  {
   "cell_type": "code",
   "execution_count": 115,
   "metadata": {},
   "outputs": [
    {
     "data": {
      "text/plain": [
       "Dundas St W & Jane St                                      27\n",
       "Jane St & St Clair Ave W                                   24\n",
       "Bloor St E & Parliament St                                 20\n",
       "Parkside Dr & Bloor St W                                   14\n",
       "Bloor St W & St George St                                  14\n",
       "Bloor St E & Castle Frank Rd                               12\n",
       "The Queensway & Parkside Dr                                12\n",
       "Don Mills Rd & York Mills Rd                               11\n",
       "Wynford Dr Eglinton W Ramp & Eglinton E Wynford Dr Ramp    11\n",
       "Royal York S Dundas E Ramp & Royal York N Dundas W Ramp    10\n",
       "Madelaine Ave & Danforth Ave                               10\n",
       "Seaton St & Shuter St                                       9\n",
       "Bathurst St & Lawrence Ave W                                9\n",
       "William Carson Cres & Yonge St                              9\n",
       "Eglinton Ave E & Mount Pleasant Rd                          8\n",
       "Clendenan Ave & Bloor St W                                  8\n",
       "Dundas St W & Scarlett Rd                                   8\n",
       "Hillhurst Blvd & Bathurst St                                8\n",
       "Ellesmere Rd & Mornelle Crt                                 8\n",
       "Harbour Sq & Bay St                                         8\n",
       "Leslie St & Lawrence Ave E                                  7\n",
       "Finch Ave E & Pharmacy Ave                                  7\n",
       "Lawrence Ave E & Yonge St                                   7\n",
       "Dundas St E & Yonge St                                      7\n",
       "Front St W & University Ave                                 7\n",
       "Shuter St & George St                                       7\n",
       "Caledonia Park Rd & Davenport Rd                            7\n",
       "Bridletowne Crcl & Warden Ave                               7\n",
       "Morningside Ave & Casebridge Crt                            7\n",
       "Lake Shore Blvd W & Rees St                                 7\n",
       "                                                           ..\n",
       "King St W & Stanley Ter                                     1\n",
       "Acton Ave & Maxwell St                                      1\n",
       "Kingston Rd & Rylander Blvd                                 1\n",
       "Edhouse Ave & Bamblett Dr                                   1\n",
       "Doris Ave & Empress Ave                                     1\n",
       "Glenhurst Ave & Oakwood Ave                                 1\n",
       "Spadina Rd & Strathearn Blvd                                1\n",
       "Dufferin St & Rosecliffe Ave                                1\n",
       "Kingston Rd & Chine Dr                                      1\n",
       "Spadina Rd & Eglinton Ave W                                 1\n",
       "Sheppard Ave E & Brimley Rd                                 1\n",
       "Davenport Rd & Oakwood Ave                                  1\n",
       "Beech Ave & Park Ave                                        1\n",
       "Jane St & Ellis Ave                                         1\n",
       "Muirbank Blvd & Orleans Dr                                  1\n",
       "Bedford Park Ave & Bathurst St                              1\n",
       "Dixfield Dr & Wellesworth Dr                                1\n",
       "Kennedy Rd & Park St                                        1\n",
       "Queens Quay  W & Little Norway Cres                         1\n",
       "Boreal Rd & Saturn Rd                                       1\n",
       "Avenue Rd & Dupont St                                       1\n",
       "Avenal Dr & Hill Pl                                         1\n",
       "Humber River Trl & Humber River Recreational Trl            1\n",
       "Hillcroft Dr & Tasker Rd                                    1\n",
       "Drewry Ave & Hilda Ave                                      1\n",
       "Cameron Ave & Botham Rd                                     1\n",
       "Lee Ave & Queen St E                                        1\n",
       "Dufferin St & Eglinton Ave W                                1\n",
       "Springside Way & Sunfield Rd                                1\n",
       "Avenue Rd & Heath St W                                      1\n",
       "Name: ADDRESS, Length: 2071, dtype: int64"
      ]
     },
     "execution_count": 115,
     "metadata": {},
     "output_type": "execute_result"
    }
   ],
   "source": [
    "intersection.ADDRESS.value_counts()"
   ]
  },
  {
   "cell_type": "markdown",
   "metadata": {},
   "source": [
    "Q: Which year received the most flooding calls?"
   ]
  },
  {
   "cell_type": "code",
   "execution_count": 87,
   "metadata": {},
   "outputs": [
    {
     "data": {
      "text/plain": [
       "2014    5042\n",
       "2013    2608\n",
       "2015    2457\n",
       "2018    2060\n",
       "2017    1809\n",
       "2011    1714\n",
       "2012    1389\n",
       "2016    1240\n",
       "2019    1235\n",
       "2010    1057\n",
       "Name: year, dtype: int64"
      ]
     },
     "execution_count": 87,
     "metadata": {},
     "output_type": "execute_result"
    }
   ],
   "source": [
    "clean_flood.year.value_counts()"
   ]
  },
  {
   "cell_type": "markdown",
   "metadata": {},
   "source": [
    "Q: Which month is the busiest?"
   ]
  },
  {
   "cell_type": "code",
   "execution_count": 88,
   "metadata": {},
   "outputs": [
    {
     "data": {
      "text/plain": [
       "2     3951\n",
       "6     2217\n",
       "10    1716\n",
       "1     1710\n",
       "3     1708\n",
       "8     1699\n",
       "7     1644\n",
       "5     1601\n",
       "4     1468\n",
       "9     1155\n",
       "11     992\n",
       "12     750\n",
       "Name: month, dtype: int64"
      ]
     },
     "execution_count": 88,
     "metadata": {},
     "output_type": "execute_result"
    }
   ],
   "source": [
    "clean_flood.month.value_counts()"
   ]
  },
  {
   "cell_type": "markdown",
   "metadata": {},
   "source": [
    "Q: How the breakdowns by zipcode? "
   ]
  },
  {
   "cell_type": "code",
   "execution_count": 90,
   "metadata": {},
   "outputs": [],
   "source": [
    "code_breadown = clean_flood.CODE_clean.value_counts()\n"
   ]
  },
  {
   "cell_type": "code",
   "execution_count": 103,
   "metadata": {},
   "outputs": [
    {
     "data": {
      "text/plain": [
       "M6S    531\n",
       "M6N    515\n",
       "M1C    396\n",
       "M1N    381\n",
       "M6H    379\n",
       "M3H    373\n",
       "M5M    372\n",
       "M1E    372\n",
       "M4J    363\n",
       "M4L    361\n",
       "Name: CODE_clean, dtype: int64"
      ]
     },
     "execution_count": 103,
     "metadata": {},
     "output_type": "execute_result"
    }
   ],
   "source": [
    "code_breadown.head(10)"
   ]
  },
  {
   "cell_type": "code",
   "execution_count": 91,
   "metadata": {},
   "outputs": [
    {
     "name": "stderr",
     "output_type": "stream",
     "text": [
      "/Library/Frameworks/Python.framework/Versions/2.7/lib/python2.7/site-packages/ipykernel_launcher.py:1: FutureWarning: The signature of `Series.to_csv` was aligned to that of `DataFrame.to_csv`, and argument 'header' will change its default value from False to True: please pass an explicit value to suppress this warning.\n",
      "  \"\"\"Entry point for launching an IPython kernel.\n"
     ]
    }
   ],
   "source": [
    "code_breadown.to_csv('input/code_breakdown.csv')"
   ]
  },
  {
   "cell_type": "markdown",
   "metadata": {},
   "source": [
    "Q: How the breakdowns by wards?"
   ]
  },
  {
   "cell_type": "code",
   "execution_count": 92,
   "metadata": {},
   "outputs": [],
   "source": [
    "ward_breakdown = clean_flood.ward.value_counts()"
   ]
  },
  {
   "cell_type": "code",
   "execution_count": 105,
   "metadata": {},
   "outputs": [
    {
     "data": {
      "text/plain": [
       "Eglinton-Lawrence (16)          746\n",
       "Etobicoke-Lakeshore (05)        684\n",
       "Parkdale-High Park (13)         634\n",
       "York South-Weston (11)          613\n",
       "Don Valley West (25)            571\n",
       "Trinity-Spadina (20)            568\n",
       "Beaches-East York (32)          544\n",
       "Toronto Centre-Rosedale (27)    539\n",
       "Toronto-Danforth (30)           537\n",
       "Scarborough Southwest (36)      532\n",
       "Scarborough East (44)           531\n",
       "Davenport (17)                  467\n",
       "Scarborough Centre (37)         463\n",
       "Etobicoke Centre (04)           463\n",
       "Trinity-Spadina (19)            443\n",
       "Eglinton-Lawrence (15)          443\n",
       "St. Paul's (21)                 432\n",
       "Toronto Centre-Rosedale (28)    431\n",
       "Etobicoke-Lakeshore (06)        414\n",
       "St. Paul's (22)                 409\n",
       "Name: ward, dtype: int64"
      ]
     },
     "execution_count": 105,
     "metadata": {},
     "output_type": "execute_result"
    }
   ],
   "source": [
    "ward_breakdown.head(20)"
   ]
  },
  {
   "cell_type": "code",
   "execution_count": 93,
   "metadata": {},
   "outputs": [
    {
     "name": "stderr",
     "output_type": "stream",
     "text": [
      "/Library/Frameworks/Python.framework/Versions/2.7/lib/python2.7/site-packages/ipykernel_launcher.py:1: FutureWarning: The signature of `Series.to_csv` was aligned to that of `DataFrame.to_csv`, and argument 'header' will change its default value from False to True: please pass an explicit value to suppress this warning.\n",
      "  \"\"\"Entry point for launching an IPython kernel.\n"
     ]
    }
   ],
   "source": [
    "ward_breakdown.to_csv('input/ward_breakdown.csv')"
   ]
  },
  {
   "cell_type": "markdown",
   "metadata": {},
   "source": [
    "Q: Which day received the most calls and what happened that day?"
   ]
  },
  {
   "cell_type": "code",
   "execution_count": 94,
   "metadata": {},
   "outputs": [
    {
     "data": {
      "text/plain": [
       "2014-02-21    463\n",
       "2014-02-20    448\n",
       "2014-02-19    332\n",
       "2014-10-16    323\n",
       "2014-01-11    272\n",
       "2019-02-15    230\n",
       "2015-10-28    228\n",
       "2013-02-11    144\n",
       "2014-01-10    126\n",
       "2014-03-11    125\n",
       "2019-02-04    121\n",
       "2013-02-28    121\n",
       "2019-01-23    115\n",
       "2019-02-24    112\n",
       "2014-02-22    105\n",
       "2019-02-03    105\n",
       "2018-04-16    100\n",
       "2015-12-29     99\n",
       "2013-07-08     97\n",
       "2015-06-08     90\n",
       "2017-05-25     88\n",
       "2014-03-10     86\n",
       "2017-05-05     86\n",
       "2015-03-04     85\n",
       "2019-02-21     83\n",
       "2013-02-19     82\n",
       "2014-02-18     81\n",
       "2013-02-27     80\n",
       "2012-09-04     79\n",
       "2017-05-01     79\n",
       "             ... \n",
       "2016-03-12      1\n",
       "2012-11-16      1\n",
       "2017-03-14      1\n",
       "2017-10-02      1\n",
       "2010-07-18      1\n",
       "2016-08-22      1\n",
       "2011-02-25      1\n",
       "2016-11-27      1\n",
       "2010-02-24      1\n",
       "2010-05-18      1\n",
       "2016-02-29      1\n",
       "2013-02-23      1\n",
       "2010-10-29      1\n",
       "2016-05-09      1\n",
       "2016-05-08      1\n",
       "2011-07-24      1\n",
       "2013-09-08      1\n",
       "2011-07-21      1\n",
       "2010-03-11      1\n",
       "2011-10-10      1\n",
       "2015-09-13      1\n",
       "2013-09-01      1\n",
       "2017-02-23      1\n",
       "2012-04-24      1\n",
       "2016-08-20      1\n",
       "2018-07-28      1\n",
       "2017-01-24      1\n",
       "2018-03-30      1\n",
       "2017-04-23      1\n",
       "2016-02-06      1\n",
       "Name: date, Length: 2657, dtype: int64"
      ]
     },
     "execution_count": 94,
     "metadata": {},
     "output_type": "execute_result"
    }
   ],
   "source": [
    "clean_flood.date.value_counts()"
   ]
  },
  {
   "cell_type": "markdown",
   "metadata": {},
   "source": [
    "Q: How the calls distribute in the worst zipcode?"
   ]
  },
  {
   "cell_type": "code",
   "execution_count": 95,
   "metadata": {},
   "outputs": [],
   "source": [
    "worst_zip = clean_flood[clean_flood.CODE_clean == 'M6S']"
   ]
  },
  {
   "cell_type": "code",
   "execution_count": 96,
   "metadata": {},
   "outputs": [
    {
     "data": {
      "text/plain": [
       "2014-02-19    14\n",
       "2014-02-20    11\n",
       "2019-02-15     6\n",
       "2014-03-11     6\n",
       "2014-03-07     6\n",
       "2016-11-03     6\n",
       "2015-06-27     5\n",
       "2015-10-28     5\n",
       "2019-02-04     5\n",
       "2018-02-20     5\n",
       "2017-01-12     5\n",
       "2014-02-21     5\n",
       "2018-01-12     4\n",
       "2012-07-31     4\n",
       "2014-03-10     4\n",
       "2014-03-20     4\n",
       "2014-01-11     4\n",
       "2013-06-13     4\n",
       "2019-01-23     4\n",
       "2017-01-17     4\n",
       "2014-10-16     4\n",
       "2015-12-29     4\n",
       "2014-09-21     3\n",
       "2013-02-27     3\n",
       "2018-05-15     3\n",
       "2012-05-09     3\n",
       "2010-06-02     3\n",
       "2012-07-16     3\n",
       "2012-07-17     3\n",
       "2016-02-24     3\n",
       "              ..\n",
       "2015-07-09     1\n",
       "2018-08-05     1\n",
       "2018-06-18     1\n",
       "2019-02-08     1\n",
       "2018-12-03     1\n",
       "2015-02-23     1\n",
       "2010-01-25     1\n",
       "2010-11-16     1\n",
       "2017-04-04     1\n",
       "2011-06-21     1\n",
       "2015-02-11     1\n",
       "2014-12-12     1\n",
       "2018-01-22     1\n",
       "2016-03-11     1\n",
       "2016-03-15     1\n",
       "2015-04-20     1\n",
       "2018-08-06     1\n",
       "2019-01-02     1\n",
       "2011-08-11     1\n",
       "2016-10-16     1\n",
       "2014-02-24     1\n",
       "2014-02-25     1\n",
       "2019-02-06     1\n",
       "2010-11-23     1\n",
       "2016-11-16     1\n",
       "2019-01-30     1\n",
       "2010-11-24     1\n",
       "2015-02-28     1\n",
       "2013-10-18     1\n",
       "2018-06-27     1\n",
       "Name: date, Length: 338, dtype: int64"
      ]
     },
     "execution_count": 96,
     "metadata": {},
     "output_type": "execute_result"
    }
   ],
   "source": [
    "worst_zip.date.value_counts()"
   ]
  },
  {
   "cell_type": "markdown",
   "metadata": {},
   "source": [
    "Q: How the calls distributed in the worst ward?"
   ]
  },
  {
   "cell_type": "code",
   "execution_count": 97,
   "metadata": {},
   "outputs": [],
   "source": [
    "worst_ward = clean_flood[clean_flood.ward == 'Eglinton-Lawrence (16)']"
   ]
  },
  {
   "cell_type": "code",
   "execution_count": 98,
   "metadata": {},
   "outputs": [
    {
     "data": {
      "text/plain": [
       "2014-02-21    32\n",
       "2014-02-19    23\n",
       "2014-10-16    21\n",
       "2014-01-11    18\n",
       "2014-02-20    18\n",
       "2015-10-28    16\n",
       "2014-01-10    12\n",
       "2013-11-17     7\n",
       "2012-09-04     6\n",
       "2014-02-22     6\n",
       "2011-08-22     6\n",
       "2014-03-14     6\n",
       "2015-03-09     5\n",
       "2013-07-08     5\n",
       "2015-02-25     5\n",
       "2014-04-29     5\n",
       "2014-01-13     5\n",
       "2011-11-29     5\n",
       "2011-04-27     5\n",
       "2011-02-14     5\n",
       "2015-06-10     5\n",
       "2013-05-29     5\n",
       "2015-03-04     4\n",
       "2015-12-29     4\n",
       "2013-02-27     4\n",
       "2011-03-10     4\n",
       "2011-08-21     4\n",
       "2014-10-17     4\n",
       "2013-06-11     4\n",
       "2013-02-19     4\n",
       "              ..\n",
       "2017-04-07     1\n",
       "2011-02-23     1\n",
       "2013-06-13     1\n",
       "2017-04-03     1\n",
       "2013-06-10     1\n",
       "2015-02-07     1\n",
       "2013-06-19     1\n",
       "2013-02-12     1\n",
       "2013-02-10     1\n",
       "2010-08-31     1\n",
       "2011-02-27     1\n",
       "2010-06-23     1\n",
       "2011-12-16     1\n",
       "2015-07-17     1\n",
       "2010-06-28     1\n",
       "2017-06-08     1\n",
       "2017-10-19     1\n",
       "2012-07-31     1\n",
       "2013-01-13     1\n",
       "2015-12-22     1\n",
       "2014-06-25     1\n",
       "2014-09-29     1\n",
       "2014-06-26     1\n",
       "2011-02-06     1\n",
       "2013-04-24     1\n",
       "2016-01-12     1\n",
       "2016-01-15     1\n",
       "2014-09-21     1\n",
       "2015-03-20     1\n",
       "2011-01-17     1\n",
       "Name: date, Length: 398, dtype: int64"
      ]
     },
     "execution_count": 98,
     "metadata": {},
     "output_type": "execute_result"
    }
   ],
   "source": [
    "worst_ward.date.value_counts()"
   ]
  },
  {
   "cell_type": "markdown",
   "metadata": {},
   "source": [
    "How many days in 10 years, the city had seen more than 100 complaints?"
   ]
  },
  {
   "cell_type": "code",
   "execution_count": 99,
   "metadata": {},
   "outputs": [
    {
     "name": "stdout",
     "output_type": "stream",
     "text": [
      "<class 'pandas.core.frame.DataFrame'>\n",
      "RangeIndex: 3346 entries, 0 to 3345\n",
      "Data columns (total 5 columns):\n",
      "date            3346 non-null object\n",
      "year            3346 non-null int64\n",
      "month/day       3346 non-null object\n",
      "counts          3346 non-null int64\n",
      "Total_Precip    3223 non-null float64\n",
      "dtypes: float64(1), int64(2), object(2)\n",
      "memory usage: 130.8+ KB\n"
     ]
    }
   ],
   "source": [
    "days = pd.read_csv('output/merged_new.csv')\n",
    "days.info()"
   ]
  },
  {
   "cell_type": "code",
   "execution_count": 102,
   "metadata": {},
   "outputs": [
    {
     "data": {
      "text/html": [
       "<div>\n",
       "<style scoped>\n",
       "    .dataframe tbody tr th:only-of-type {\n",
       "        vertical-align: middle;\n",
       "    }\n",
       "\n",
       "    .dataframe tbody tr th {\n",
       "        vertical-align: top;\n",
       "    }\n",
       "\n",
       "    .dataframe thead th {\n",
       "        text-align: right;\n",
       "    }\n",
       "</style>\n",
       "<table border=\"1\" class=\"dataframe\">\n",
       "  <thead>\n",
       "    <tr style=\"text-align: right;\">\n",
       "      <th></th>\n",
       "      <th>date</th>\n",
       "      <th>year</th>\n",
       "      <th>month/day</th>\n",
       "      <th>counts</th>\n",
       "      <th>Total_Precip</th>\n",
       "    </tr>\n",
       "  </thead>\n",
       "  <tbody>\n",
       "    <tr>\n",
       "      <th>1512</th>\n",
       "      <td>2014-02-21</td>\n",
       "      <td>2014</td>\n",
       "      <td>21-Feb</td>\n",
       "      <td>467</td>\n",
       "      <td>8.7</td>\n",
       "    </tr>\n",
       "    <tr>\n",
       "      <th>1511</th>\n",
       "      <td>2014-02-20</td>\n",
       "      <td>2014</td>\n",
       "      <td>20-Feb</td>\n",
       "      <td>452</td>\n",
       "      <td>13.4</td>\n",
       "    </tr>\n",
       "    <tr>\n",
       "      <th>1510</th>\n",
       "      <td>2014-02-19</td>\n",
       "      <td>2014</td>\n",
       "      <td>19-Feb</td>\n",
       "      <td>334</td>\n",
       "      <td>0.2</td>\n",
       "    </tr>\n",
       "    <tr>\n",
       "      <th>1749</th>\n",
       "      <td>2014-10-16</td>\n",
       "      <td>2014</td>\n",
       "      <td>16-Oct</td>\n",
       "      <td>333</td>\n",
       "      <td>21.1</td>\n",
       "    </tr>\n",
       "    <tr>\n",
       "      <th>1471</th>\n",
       "      <td>2014-01-11</td>\n",
       "      <td>2014</td>\n",
       "      <td>11-Jan</td>\n",
       "      <td>278</td>\n",
       "      <td>9.6</td>\n",
       "    </tr>\n",
       "    <tr>\n",
       "      <th>2126</th>\n",
       "      <td>2015-10-28</td>\n",
       "      <td>2015</td>\n",
       "      <td>28-Oct</td>\n",
       "      <td>232</td>\n",
       "      <td>58.3</td>\n",
       "    </tr>\n",
       "    <tr>\n",
       "      <th>3332</th>\n",
       "      <td>2019-02-15</td>\n",
       "      <td>2019</td>\n",
       "      <td>15-Feb</td>\n",
       "      <td>231</td>\n",
       "      <td>1.3</td>\n",
       "    </tr>\n",
       "    <tr>\n",
       "      <th>1137</th>\n",
       "      <td>2013-02-11</td>\n",
       "      <td>2013</td>\n",
       "      <td>11-Feb</td>\n",
       "      <td>147</td>\n",
       "      <td>5.6</td>\n",
       "    </tr>\n",
       "    <tr>\n",
       "      <th>1470</th>\n",
       "      <td>2014-01-10</td>\n",
       "      <td>2014</td>\n",
       "      <td>10-Jan</td>\n",
       "      <td>129</td>\n",
       "      <td>2.0</td>\n",
       "    </tr>\n",
       "    <tr>\n",
       "      <th>1530</th>\n",
       "      <td>2014-03-11</td>\n",
       "      <td>2014</td>\n",
       "      <td>11-Mar</td>\n",
       "      <td>126</td>\n",
       "      <td>0.0</td>\n",
       "    </tr>\n",
       "    <tr>\n",
       "      <th>3321</th>\n",
       "      <td>2019-02-04</td>\n",
       "      <td>2019</td>\n",
       "      <td>04-Feb</td>\n",
       "      <td>124</td>\n",
       "      <td>2.1</td>\n",
       "    </tr>\n",
       "    <tr>\n",
       "      <th>1154</th>\n",
       "      <td>2013-02-28</td>\n",
       "      <td>2013</td>\n",
       "      <td>28-Feb</td>\n",
       "      <td>122</td>\n",
       "      <td>3.9</td>\n",
       "    </tr>\n",
       "    <tr>\n",
       "      <th>3309</th>\n",
       "      <td>2019-01-23</td>\n",
       "      <td>2019</td>\n",
       "      <td>23-Jan</td>\n",
       "      <td>118</td>\n",
       "      <td>11.0</td>\n",
       "    </tr>\n",
       "    <tr>\n",
       "      <th>3341</th>\n",
       "      <td>2019-02-24</td>\n",
       "      <td>2019</td>\n",
       "      <td>24-Feb</td>\n",
       "      <td>112</td>\n",
       "      <td>10.0</td>\n",
       "    </tr>\n",
       "    <tr>\n",
       "      <th>1513</th>\n",
       "      <td>2014-02-22</td>\n",
       "      <td>2014</td>\n",
       "      <td>22-Feb</td>\n",
       "      <td>106</td>\n",
       "      <td>0.0</td>\n",
       "    </tr>\n",
       "    <tr>\n",
       "      <th>3320</th>\n",
       "      <td>2019-02-03</td>\n",
       "      <td>2019</td>\n",
       "      <td>03-Feb</td>\n",
       "      <td>105</td>\n",
       "      <td>0.0</td>\n",
       "    </tr>\n",
       "    <tr>\n",
       "      <th>3027</th>\n",
       "      <td>2018-04-16</td>\n",
       "      <td>2018</td>\n",
       "      <td>16-Apr</td>\n",
       "      <td>101</td>\n",
       "      <td>28.8</td>\n",
       "    </tr>\n",
       "  </tbody>\n",
       "</table>\n",
       "</div>"
      ],
      "text/plain": [
       "            date  year month/day  counts  Total_Precip\n",
       "1512  2014-02-21  2014    21-Feb     467           8.7\n",
       "1511  2014-02-20  2014    20-Feb     452          13.4\n",
       "1510  2014-02-19  2014    19-Feb     334           0.2\n",
       "1749  2014-10-16  2014    16-Oct     333          21.1\n",
       "1471  2014-01-11  2014    11-Jan     278           9.6\n",
       "2126  2015-10-28  2015    28-Oct     232          58.3\n",
       "3332  2019-02-15  2019    15-Feb     231           1.3\n",
       "1137  2013-02-11  2013    11-Feb     147           5.6\n",
       "1470  2014-01-10  2014    10-Jan     129           2.0\n",
       "1530  2014-03-11  2014    11-Mar     126           0.0\n",
       "3321  2019-02-04  2019    04-Feb     124           2.1\n",
       "1154  2013-02-28  2013    28-Feb     122           3.9\n",
       "3309  2019-01-23  2019    23-Jan     118          11.0\n",
       "3341  2019-02-24  2019    24-Feb     112          10.0\n",
       "1513  2014-02-22  2014    22-Feb     106           0.0\n",
       "3320  2019-02-03  2019    03-Feb     105           0.0\n",
       "3027  2018-04-16  2018    16-Apr     101          28.8"
      ]
     },
     "execution_count": 102,
     "metadata": {},
     "output_type": "execute_result"
    }
   ],
   "source": [
    "days[days.counts>100].sort_values('counts', ascending=False)"
   ]
  }
 ],
 "metadata": {
  "kernelspec": {
   "display_name": "Python 2",
   "language": "python",
   "name": "python2"
  },
  "language_info": {
   "codemirror_mode": {
    "name": "ipython",
    "version": 2
   },
   "file_extension": ".py",
   "mimetype": "text/x-python",
   "name": "python",
   "nbconvert_exporter": "python",
   "pygments_lexer": "ipython2",
   "version": "2.7.15"
  }
 },
 "nbformat": 4,
 "nbformat_minor": 2
}
