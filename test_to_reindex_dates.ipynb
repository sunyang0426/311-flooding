{
 "cells": [
  {
   "cell_type": "code",
   "execution_count": 220,
   "metadata": {},
   "outputs": [],
   "source": [
    "import pandas as pd"
   ]
  },
  {
   "cell_type": "code",
   "execution_count": 221,
   "metadata": {},
   "outputs": [],
   "source": [
    "flooding2014 = pd.read_csv('input/SR2014.csv')"
   ]
  },
  {
   "cell_type": "code",
   "execution_count": 222,
   "metadata": {},
   "outputs": [],
   "source": [
    "flooding2014.columns = flooding2014.columns.str.strip().str.lower().str.replace(' ', '_').str.replace('(', '').str.replace(')', '')"
   ]
  },
  {
   "cell_type": "code",
   "execution_count": 223,
   "metadata": {},
   "outputs": [],
   "source": [
    "flooding2014 = flooding2014[flooding2014.service_request_type =='Catch Basin - Blocked / Flooding']"
   ]
  },
  {
   "cell_type": "code",
   "execution_count": 224,
   "metadata": {},
   "outputs": [
    {
     "data": {
      "text/html": [
       "<div>\n",
       "<style scoped>\n",
       "    .dataframe tbody tr th:only-of-type {\n",
       "        vertical-align: middle;\n",
       "    }\n",
       "\n",
       "    .dataframe tbody tr th {\n",
       "        vertical-align: top;\n",
       "    }\n",
       "\n",
       "    .dataframe thead th {\n",
       "        text-align: right;\n",
       "    }\n",
       "</style>\n",
       "<table border=\"1\" class=\"dataframe\">\n",
       "  <thead>\n",
       "    <tr style=\"text-align: right;\">\n",
       "      <th></th>\n",
       "      <th>creation_date</th>\n",
       "      <th>status</th>\n",
       "      <th>first_3_chars_of_postal_code</th>\n",
       "      <th>intersection_street_1</th>\n",
       "      <th>intersection_street_2</th>\n",
       "      <th>ward</th>\n",
       "      <th>service_request_type</th>\n",
       "      <th>division</th>\n",
       "      <th>section</th>\n",
       "    </tr>\n",
       "  </thead>\n",
       "  <tbody>\n",
       "    <tr>\n",
       "      <th>442</th>\n",
       "      <td>2014-01-02 08:34:09.0000000</td>\n",
       "      <td>Closed</td>\n",
       "      <td>M6S</td>\n",
       "      <td>NaN</td>\n",
       "      <td>NaN</td>\n",
       "      <td>Parkdale-High Park (13)</td>\n",
       "      <td>Catch Basin - Blocked / Flooding</td>\n",
       "      <td>Transportation Services</td>\n",
       "      <td>Road Operations</td>\n",
       "    </tr>\n",
       "    <tr>\n",
       "      <th>2547</th>\n",
       "      <td>2014-01-03 11:45:10.0000000</td>\n",
       "      <td>Closed</td>\n",
       "      <td>M1K</td>\n",
       "      <td>NaN</td>\n",
       "      <td>NaN</td>\n",
       "      <td>Scarborough Centre (37)</td>\n",
       "      <td>Catch Basin - Blocked / Flooding</td>\n",
       "      <td>Transportation Services</td>\n",
       "      <td>Road Operations</td>\n",
       "    </tr>\n",
       "    <tr>\n",
       "      <th>5637</th>\n",
       "      <td>2014-01-06 02:35:16.0000000</td>\n",
       "      <td>Closed</td>\n",
       "      <td>Intersection</td>\n",
       "      <td>Morningside Ave</td>\n",
       "      <td>Ellesmere Rd</td>\n",
       "      <td>Scarborough East (44)</td>\n",
       "      <td>Catch Basin - Blocked / Flooding</td>\n",
       "      <td>Transportation Services</td>\n",
       "      <td>Road Operations</td>\n",
       "    </tr>\n",
       "    <tr>\n",
       "      <th>5638</th>\n",
       "      <td>2014-01-06 02:36:02.0000000</td>\n",
       "      <td>Cancelled</td>\n",
       "      <td>Intersection</td>\n",
       "      <td>Morningside Ave</td>\n",
       "      <td>Ellesmere Rd</td>\n",
       "      <td>Scarborough East (44)</td>\n",
       "      <td>Catch Basin - Blocked / Flooding</td>\n",
       "      <td>Transportation Services</td>\n",
       "      <td>Road Operations</td>\n",
       "    </tr>\n",
       "    <tr>\n",
       "      <th>5642</th>\n",
       "      <td>2014-01-06 03:08:44.0000000</td>\n",
       "      <td>Closed</td>\n",
       "      <td>Intersection</td>\n",
       "      <td>Donlands Ave</td>\n",
       "      <td>Leaside Bdge</td>\n",
       "      <td>Toronto-Danforth (29)</td>\n",
       "      <td>Catch Basin - Blocked / Flooding</td>\n",
       "      <td>Transportation Services</td>\n",
       "      <td>Road Operations</td>\n",
       "    </tr>\n",
       "  </tbody>\n",
       "</table>\n",
       "</div>"
      ],
      "text/plain": [
       "                    creation_date     status first_3_chars_of_postal_code  \\\n",
       "442   2014-01-02 08:34:09.0000000     Closed                          M6S   \n",
       "2547  2014-01-03 11:45:10.0000000     Closed                          M1K   \n",
       "5637  2014-01-06 02:35:16.0000000     Closed                 Intersection   \n",
       "5638  2014-01-06 02:36:02.0000000  Cancelled                 Intersection   \n",
       "5642  2014-01-06 03:08:44.0000000     Closed                 Intersection   \n",
       "\n",
       "     intersection_street_1 intersection_street_2                     ward  \\\n",
       "442                    NaN                   NaN  Parkdale-High Park (13)   \n",
       "2547                   NaN                   NaN  Scarborough Centre (37)   \n",
       "5637       Morningside Ave          Ellesmere Rd    Scarborough East (44)   \n",
       "5638       Morningside Ave          Ellesmere Rd    Scarborough East (44)   \n",
       "5642          Donlands Ave          Leaside Bdge    Toronto-Danforth (29)   \n",
       "\n",
       "                  service_request_type                 division  \\\n",
       "442   Catch Basin - Blocked / Flooding  Transportation Services   \n",
       "2547  Catch Basin - Blocked / Flooding  Transportation Services   \n",
       "5637  Catch Basin - Blocked / Flooding  Transportation Services   \n",
       "5638  Catch Basin - Blocked / Flooding  Transportation Services   \n",
       "5642  Catch Basin - Blocked / Flooding  Transportation Services   \n",
       "\n",
       "              section  \n",
       "442   Road Operations  \n",
       "2547  Road Operations  \n",
       "5637  Road Operations  \n",
       "5638  Road Operations  \n",
       "5642  Road Operations  "
      ]
     },
     "execution_count": 224,
     "metadata": {},
     "output_type": "execute_result"
    }
   ],
   "source": [
    "flooding2014.head()"
   ]
  },
  {
   "cell_type": "code",
   "execution_count": 225,
   "metadata": {},
   "outputs": [],
   "source": [
    "flooding2014['dates'] = pd.to_datetime(flooding2014['creation_date']).dt.date"
   ]
  },
  {
   "cell_type": "code",
   "execution_count": 226,
   "metadata": {},
   "outputs": [],
   "source": [
    "flooding2014['time'] = pd.to_datetime(flooding2014['creation_date']).dt.time"
   ]
  },
  {
   "cell_type": "code",
   "execution_count": 227,
   "metadata": {},
   "outputs": [],
   "source": [
    "flooding2014['year'] = pd.to_datetime(flooding2014['creation_date']).dt.year"
   ]
  },
  {
   "cell_type": "code",
   "execution_count": 228,
   "metadata": {},
   "outputs": [
    {
     "name": "stdout",
     "output_type": "stream",
     "text": [
      "<class 'pandas.core.frame.DataFrame'>\n",
      "Int64Index: 5113 entries, 442 to 445886\n",
      "Data columns (total 12 columns):\n",
      "creation_date                   5113 non-null object\n",
      "status                          5113 non-null object\n",
      "first_3_chars_of_postal_code    5113 non-null object\n",
      "intersection_street_1           659 non-null object\n",
      "intersection_street_2           659 non-null object\n",
      "ward                            5113 non-null object\n",
      "service_request_type            5113 non-null object\n",
      "division                        5113 non-null object\n",
      "section                         5113 non-null object\n",
      "dates                           5113 non-null object\n",
      "time                            5113 non-null object\n",
      "year                            5113 non-null int64\n",
      "dtypes: int64(1), object(11)\n",
      "memory usage: 519.3+ KB\n"
     ]
    }
   ],
   "source": [
    "flooding2014.info()"
   ]
  },
  {
   "cell_type": "code",
   "execution_count": 229,
   "metadata": {},
   "outputs": [],
   "source": [
    "counts14 = flooding2014.dates.value_counts().reset_index()"
   ]
  },
  {
   "cell_type": "code",
   "execution_count": 230,
   "metadata": {},
   "outputs": [
    {
     "data": {
      "text/html": [
       "<div>\n",
       "<style scoped>\n",
       "    .dataframe tbody tr th:only-of-type {\n",
       "        vertical-align: middle;\n",
       "    }\n",
       "\n",
       "    .dataframe tbody tr th {\n",
       "        vertical-align: top;\n",
       "    }\n",
       "\n",
       "    .dataframe thead th {\n",
       "        text-align: right;\n",
       "    }\n",
       "</style>\n",
       "<table border=\"1\" class=\"dataframe\">\n",
       "  <thead>\n",
       "    <tr style=\"text-align: right;\">\n",
       "      <th></th>\n",
       "      <th>index</th>\n",
       "      <th>dates</th>\n",
       "    </tr>\n",
       "  </thead>\n",
       "  <tbody>\n",
       "    <tr>\n",
       "      <th>0</th>\n",
       "      <td>2014-02-21</td>\n",
       "      <td>467</td>\n",
       "    </tr>\n",
       "    <tr>\n",
       "      <th>1</th>\n",
       "      <td>2014-02-20</td>\n",
       "      <td>452</td>\n",
       "    </tr>\n",
       "    <tr>\n",
       "      <th>2</th>\n",
       "      <td>2014-02-19</td>\n",
       "      <td>334</td>\n",
       "    </tr>\n",
       "    <tr>\n",
       "      <th>3</th>\n",
       "      <td>2014-10-16</td>\n",
       "      <td>333</td>\n",
       "    </tr>\n",
       "    <tr>\n",
       "      <th>4</th>\n",
       "      <td>2014-01-11</td>\n",
       "      <td>278</td>\n",
       "    </tr>\n",
       "  </tbody>\n",
       "</table>\n",
       "</div>"
      ],
      "text/plain": [
       "        index  dates\n",
       "0  2014-02-21    467\n",
       "1  2014-02-20    452\n",
       "2  2014-02-19    334\n",
       "3  2014-10-16    333\n",
       "4  2014-01-11    278"
      ]
     },
     "execution_count": 230,
     "metadata": {},
     "output_type": "execute_result"
    }
   ],
   "source": [
    "counts14.head()"
   ]
  },
  {
   "cell_type": "code",
   "execution_count": 231,
   "metadata": {},
   "outputs": [],
   "source": [
    "counts14 = counts14.rename(index=str, columns={\"index\": \"date\", \"dates\": \"counts\"})"
   ]
  },
  {
   "cell_type": "code",
   "execution_count": 232,
   "metadata": {},
   "outputs": [],
   "source": [
    "counts14 = counts14.sort_values('date')"
   ]
  },
  {
   "cell_type": "code",
   "execution_count": 233,
   "metadata": {},
   "outputs": [],
   "source": [
    "counts14['date'] = pd.to_datetime(counts14['date'])"
   ]
  },
  {
   "cell_type": "code",
   "execution_count": 234,
   "metadata": {},
   "outputs": [
    {
     "name": "stdout",
     "output_type": "stream",
     "text": [
      "<class 'pandas.core.frame.DataFrame'>\n",
      "Index: 324 entries, 323 to 308\n",
      "Data columns (total 2 columns):\n",
      "date      324 non-null datetime64[ns]\n",
      "counts    324 non-null int64\n",
      "dtypes: datetime64[ns](1), int64(1)\n",
      "memory usage: 7.6+ KB\n"
     ]
    },
    {
     "data": {
      "text/html": [
       "<div>\n",
       "<style scoped>\n",
       "    .dataframe tbody tr th:only-of-type {\n",
       "        vertical-align: middle;\n",
       "    }\n",
       "\n",
       "    .dataframe tbody tr th {\n",
       "        vertical-align: top;\n",
       "    }\n",
       "\n",
       "    .dataframe thead th {\n",
       "        text-align: right;\n",
       "    }\n",
       "</style>\n",
       "<table border=\"1\" class=\"dataframe\">\n",
       "  <thead>\n",
       "    <tr style=\"text-align: right;\">\n",
       "      <th></th>\n",
       "      <th>date</th>\n",
       "      <th>counts</th>\n",
       "    </tr>\n",
       "  </thead>\n",
       "  <tbody>\n",
       "    <tr>\n",
       "      <th>323</th>\n",
       "      <td>2014-01-02</td>\n",
       "      <td>1</td>\n",
       "    </tr>\n",
       "    <tr>\n",
       "      <th>315</th>\n",
       "      <td>2014-01-03</td>\n",
       "      <td>1</td>\n",
       "    </tr>\n",
       "    <tr>\n",
       "      <th>19</th>\n",
       "      <td>2014-01-06</td>\n",
       "      <td>42</td>\n",
       "    </tr>\n",
       "    <tr>\n",
       "      <th>192</th>\n",
       "      <td>2014-01-07</td>\n",
       "      <td>4</td>\n",
       "    </tr>\n",
       "    <tr>\n",
       "      <th>201</th>\n",
       "      <td>2014-01-08</td>\n",
       "      <td>4</td>\n",
       "    </tr>\n",
       "    <tr>\n",
       "      <th>67</th>\n",
       "      <td>2014-01-09</td>\n",
       "      <td>12</td>\n",
       "    </tr>\n",
       "    <tr>\n",
       "      <th>5</th>\n",
       "      <td>2014-01-10</td>\n",
       "      <td>129</td>\n",
       "    </tr>\n",
       "    <tr>\n",
       "      <th>4</th>\n",
       "      <td>2014-01-11</td>\n",
       "      <td>278</td>\n",
       "    </tr>\n",
       "    <tr>\n",
       "      <th>15</th>\n",
       "      <td>2014-01-12</td>\n",
       "      <td>52</td>\n",
       "    </tr>\n",
       "    <tr>\n",
       "      <th>11</th>\n",
       "      <td>2014-01-13</td>\n",
       "      <td>72</td>\n",
       "    </tr>\n",
       "  </tbody>\n",
       "</table>\n",
       "</div>"
      ],
      "text/plain": [
       "          date  counts\n",
       "323 2014-01-02       1\n",
       "315 2014-01-03       1\n",
       "19  2014-01-06      42\n",
       "192 2014-01-07       4\n",
       "201 2014-01-08       4\n",
       "67  2014-01-09      12\n",
       "5   2014-01-10     129\n",
       "4   2014-01-11     278\n",
       "15  2014-01-12      52\n",
       "11  2014-01-13      72"
      ]
     },
     "execution_count": 234,
     "metadata": {},
     "output_type": "execute_result"
    }
   ],
   "source": [
    "counts14.info()\n",
    "counts14.head(10)"
   ]
  },
  {
   "cell_type": "code",
   "execution_count": 235,
   "metadata": {},
   "outputs": [],
   "source": [
    "idx = pd.date_range(start = '2014-01-01', end = '2014-12-31', freq = 'D')"
   ]
  },
  {
   "cell_type": "code",
   "execution_count": 236,
   "metadata": {},
   "outputs": [],
   "source": [
    "counts14 = counts14.set_index('date').reindex(idx, fill_value='0')"
   ]
  },
  {
   "cell_type": "code",
   "execution_count": 237,
   "metadata": {},
   "outputs": [
    {
     "name": "stdout",
     "output_type": "stream",
     "text": [
      "           counts\n",
      "2014-01-01      0\n",
      "2014-01-02      1\n",
      "2014-01-03      1\n",
      "2014-01-04      0\n",
      "2014-01-05      0\n",
      "2014-01-06     42\n",
      "2014-01-07      4\n",
      "2014-01-08      4\n",
      "2014-01-09     12\n",
      "2014-01-10    129\n",
      "2014-01-11    278\n",
      "2014-01-12     52\n",
      "2014-01-13     72\n",
      "2014-01-14     44\n",
      "2014-01-15      7\n",
      "2014-01-16      7\n",
      "2014-01-17      8\n",
      "2014-01-18      5\n",
      "2014-01-19      0\n",
      "2014-01-20      5\n",
      "2014-01-21      2\n",
      "2014-01-22      3\n",
      "2014-01-23      2\n",
      "2014-01-24      1\n",
      "2014-01-25      1\n",
      "2014-01-26      1\n",
      "2014-01-27      7\n",
      "2014-01-28      5\n",
      "2014-01-29      9\n",
      "2014-01-30      2\n",
      "...           ...\n",
      "2014-12-02      2\n",
      "2014-12-03      4\n",
      "2014-12-04      0\n",
      "2014-12-05      4\n",
      "2014-12-06      2\n",
      "2014-12-07      0\n",
      "2014-12-08      1\n",
      "2014-12-09      0\n",
      "2014-12-10      4\n",
      "2014-12-11      4\n",
      "2014-12-12      9\n",
      "2014-12-13      5\n",
      "2014-12-14      3\n",
      "2014-12-15      3\n",
      "2014-12-16      7\n",
      "2014-12-17     10\n",
      "2014-12-18      1\n",
      "2014-12-19      1\n",
      "2014-12-20      0\n",
      "2014-12-21      0\n",
      "2014-12-22      3\n",
      "2014-12-23      0\n",
      "2014-12-24      2\n",
      "2014-12-25      1\n",
      "2014-12-26      2\n",
      "2014-12-27      3\n",
      "2014-12-28      0\n",
      "2014-12-29      2\n",
      "2014-12-30      0\n",
      "2014-12-31      1\n",
      "\n",
      "[365 rows x 1 columns]\n"
     ]
    }
   ],
   "source": [
    "print(counts14)"
   ]
  },
  {
   "cell_type": "code",
   "execution_count": null,
   "metadata": {},
   "outputs": [],
   "source": []
  }
 ],
 "metadata": {
  "kernelspec": {
   "display_name": "Python 2",
   "language": "python",
   "name": "python2"
  },
  "language_info": {
   "codemirror_mode": {
    "name": "ipython",
    "version": 2
   },
   "file_extension": ".py",
   "mimetype": "text/x-python",
   "name": "python",
   "nbconvert_exporter": "python",
   "pygments_lexer": "ipython2",
   "version": "2.7.15"
  }
 },
 "nbformat": 4,
 "nbformat_minor": 2
}
