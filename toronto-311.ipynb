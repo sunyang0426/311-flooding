{
 "cells": [
  {
   "cell_type": "code",
   "execution_count": 2,
   "metadata": {},
   "outputs": [],
   "source": [
    "import pandas as pd"
   ]
  },
  {
   "cell_type": "code",
   "execution_count": 3,
   "metadata": {},
   "outputs": [],
   "source": [
    "import numpy as np"
   ]
  },
  {
   "cell_type": "code",
   "execution_count": 75,
   "metadata": {},
   "outputs": [],
   "source": [
    "import random"
   ]
  },
  {
   "cell_type": "code",
   "execution_count": 76,
   "metadata": {},
   "outputs": [],
   "source": [
    "import datetime as dt"
   ]
  },
  {
   "cell_type": "code",
   "execution_count": null,
   "metadata": {},
   "outputs": [],
   "source": []
  },
  {
   "cell_type": "markdown",
   "metadata": {},
   "source": [
    "# Prepre the 10-year 311 reports and merge into one data set "
   ]
  },
  {
   "cell_type": "code",
   "execution_count": 4,
   "metadata": {},
   "outputs": [],
   "source": [
    "file2010 = pd.read_csv('SR2010.csv')"
   ]
  },
  {
   "cell_type": "code",
   "execution_count": 5,
   "metadata": {},
   "outputs": [],
   "source": [
    "file2011 = pd.read_csv('SR2011.csv')"
   ]
  },
  {
   "cell_type": "code",
   "execution_count": 6,
   "metadata": {},
   "outputs": [],
   "source": [
    "file2012 = pd.read_csv('SR2012.csv')"
   ]
  },
  {
   "cell_type": "code",
   "execution_count": 7,
   "metadata": {},
   "outputs": [],
   "source": [
    "file2013 = pd.read_csv('SR2013.csv')"
   ]
  },
  {
   "cell_type": "code",
   "execution_count": 8,
   "metadata": {},
   "outputs": [],
   "source": [
    "file2014 = pd.read_csv('SR2014.csv')"
   ]
  },
  {
   "cell_type": "code",
   "execution_count": 9,
   "metadata": {},
   "outputs": [],
   "source": [
    "file2015 = pd.read_csv('SR2015.csv')"
   ]
  },
  {
   "cell_type": "code",
   "execution_count": 10,
   "metadata": {},
   "outputs": [],
   "source": [
    "file2016 = pd.read_csv('SR2016.csv')"
   ]
  },
  {
   "cell_type": "code",
   "execution_count": 11,
   "metadata": {},
   "outputs": [],
   "source": [
    "file2017 = pd.read_csv('SR2017.csv')"
   ]
  },
  {
   "cell_type": "code",
   "execution_count": 12,
   "metadata": {},
   "outputs": [],
   "source": [
    "file2018 = pd.read_csv('SR2018.csv')"
   ]
  },
  {
   "cell_type": "code",
   "execution_count": 13,
   "metadata": {},
   "outputs": [],
   "source": [
    "file2019 = pd.read_csv('SR2019.csv')"
   ]
  },
  {
   "cell_type": "markdown",
   "metadata": {},
   "source": [
    "# The 10-year data into a big file named after \"toronto311\""
   ]
  },
  {
   "cell_type": "code",
   "execution_count": 14,
   "metadata": {},
   "outputs": [],
   "source": [
    "toronto311 = pd.concat([file2010, file2011, file2012, file2013, file2014, file2015, file2016, file2017, file2017, file2018, file2019])"
   ]
  },
  {
   "cell_type": "code",
   "execution_count": 15,
   "metadata": {},
   "outputs": [],
   "source": [
    "toronto311.to_csv('toronto311.csv')"
   ]
  },
  {
   "cell_type": "markdown",
   "metadata": {},
   "source": [
    "# Format the header, eg. remove white spaces and change into lower cases"
   ]
  },
  {
   "cell_type": "code",
   "execution_count": 16,
   "metadata": {},
   "outputs": [],
   "source": [
    "toronto311.columns = toronto311.columns.str.strip().str.lower().str.replace(' ', '_').str.replace('(', '').str.replace(')', '')"
   ]
  },
  {
   "cell_type": "code",
   "execution_count": 17,
   "metadata": {},
   "outputs": [
    {
     "name": "stdout",
     "output_type": "stream",
     "text": [
      "<class 'pandas.core.frame.DataFrame'>\n",
      "Int64Index: 3816984 entries, 0 to 78693\n",
      "Data columns (total 9 columns):\n",
      "creation_date                   object\n",
      "status                          object\n",
      "first_3_chars_of_postal_code    object\n",
      "intersection_street_1           object\n",
      "intersection_street_2           object\n",
      "ward                            object\n",
      "service_request_type            object\n",
      "division                        object\n",
      "section                         object\n",
      "dtypes: object(9)\n",
      "memory usage: 291.2+ MB\n"
     ]
    }
   ],
   "source": [
    "toronto311.info()"
   ]
  },
  {
   "cell_type": "code",
   "execution_count": 18,
   "metadata": {},
   "outputs": [
    {
     "data": {
      "text/html": [
       "<div>\n",
       "<style scoped>\n",
       "    .dataframe tbody tr th:only-of-type {\n",
       "        vertical-align: middle;\n",
       "    }\n",
       "\n",
       "    .dataframe tbody tr th {\n",
       "        vertical-align: top;\n",
       "    }\n",
       "\n",
       "    .dataframe thead th {\n",
       "        text-align: right;\n",
       "    }\n",
       "</style>\n",
       "<table border=\"1\" class=\"dataframe\">\n",
       "  <thead>\n",
       "    <tr style=\"text-align: right;\">\n",
       "      <th></th>\n",
       "      <th>creation_date</th>\n",
       "      <th>status</th>\n",
       "      <th>first_3_chars_of_postal_code</th>\n",
       "      <th>intersection_street_1</th>\n",
       "      <th>intersection_street_2</th>\n",
       "      <th>ward</th>\n",
       "      <th>service_request_type</th>\n",
       "      <th>division</th>\n",
       "      <th>section</th>\n",
       "    </tr>\n",
       "  </thead>\n",
       "  <tbody>\n",
       "    <tr>\n",
       "      <th>0</th>\n",
       "      <td>2010-01-01 00:38:26.0000000</td>\n",
       "      <td>Closed</td>\n",
       "      <td>Intersection</td>\n",
       "      <td>High Park Blvd</td>\n",
       "      <td>Parkside Dr</td>\n",
       "      <td>Parkdale-High Park (13)</td>\n",
       "      <td>Road - Sanding / Salting Required</td>\n",
       "      <td>Transportation Services</td>\n",
       "      <td>Road Operations</td>\n",
       "    </tr>\n",
       "    <tr>\n",
       "      <th>1</th>\n",
       "      <td>2010-01-01 01:19:18.0000000</td>\n",
       "      <td>Closed</td>\n",
       "      <td>M4T</td>\n",
       "      <td>NaN</td>\n",
       "      <td>NaN</td>\n",
       "      <td>Toronto Centre-Rosedale (27)</td>\n",
       "      <td>Water Service Line-Turn On</td>\n",
       "      <td>Toronto Water</td>\n",
       "      <td>District Ops</td>\n",
       "    </tr>\n",
       "    <tr>\n",
       "      <th>2</th>\n",
       "      <td>2010-01-01 01:19:48.0000000</td>\n",
       "      <td>Cancelled</td>\n",
       "      <td>M1T</td>\n",
       "      <td>NaN</td>\n",
       "      <td>NaN</td>\n",
       "      <td>Scarborough-Agincourt (40)</td>\n",
       "      <td>Water Service Line-Leaking</td>\n",
       "      <td>Toronto Water</td>\n",
       "      <td>District Ops</td>\n",
       "    </tr>\n",
       "    <tr>\n",
       "      <th>3</th>\n",
       "      <td>2010-01-01 01:24:18.0000000</td>\n",
       "      <td>Cancelled</td>\n",
       "      <td>M1T</td>\n",
       "      <td>NaN</td>\n",
       "      <td>NaN</td>\n",
       "      <td>Scarborough-Agincourt (40)</td>\n",
       "      <td>Water Service Line-Leaking</td>\n",
       "      <td>Toronto Water</td>\n",
       "      <td>District Ops</td>\n",
       "    </tr>\n",
       "    <tr>\n",
       "      <th>4</th>\n",
       "      <td>2010-01-01 01:42:26.0000000</td>\n",
       "      <td>Closed</td>\n",
       "      <td>M1K</td>\n",
       "      <td>NaN</td>\n",
       "      <td>NaN</td>\n",
       "      <td>Scarborough Southwest (35)</td>\n",
       "      <td>Watermain-Possible Break</td>\n",
       "      <td>Toronto Water</td>\n",
       "      <td>District Ops</td>\n",
       "    </tr>\n",
       "  </tbody>\n",
       "</table>\n",
       "</div>"
      ],
      "text/plain": [
       "                 creation_date     status first_3_chars_of_postal_code  \\\n",
       "0  2010-01-01 00:38:26.0000000     Closed                 Intersection   \n",
       "1  2010-01-01 01:19:18.0000000     Closed                          M4T   \n",
       "2  2010-01-01 01:19:48.0000000  Cancelled                          M1T   \n",
       "3  2010-01-01 01:24:18.0000000  Cancelled                          M1T   \n",
       "4  2010-01-01 01:42:26.0000000     Closed                          M1K   \n",
       "\n",
       "  intersection_street_1 intersection_street_2                          ward  \\\n",
       "0        High Park Blvd           Parkside Dr       Parkdale-High Park (13)   \n",
       "1                   NaN                   NaN  Toronto Centre-Rosedale (27)   \n",
       "2                   NaN                   NaN    Scarborough-Agincourt (40)   \n",
       "3                   NaN                   NaN    Scarborough-Agincourt (40)   \n",
       "4                   NaN                   NaN    Scarborough Southwest (35)   \n",
       "\n",
       "                service_request_type                 division          section  \n",
       "0  Road - Sanding / Salting Required  Transportation Services  Road Operations  \n",
       "1         Water Service Line-Turn On            Toronto Water     District Ops  \n",
       "2         Water Service Line-Leaking            Toronto Water     District Ops  \n",
       "3         Water Service Line-Leaking            Toronto Water     District Ops  \n",
       "4           Watermain-Possible Break            Toronto Water     District Ops  "
      ]
     },
     "execution_count": 18,
     "metadata": {},
     "output_type": "execute_result"
    }
   ],
   "source": [
    "toronto311.head(5)"
   ]
  },
  {
   "cell_type": "markdown",
   "metadata": {},
   "source": [
    "## Q: What is the most reported problems? A: The services about organic bins. "
   ]
  },
  {
   "cell_type": "code",
   "execution_count": 19,
   "metadata": {},
   "outputs": [
    {
     "data": {
      "text/plain": [
       "Property Standards                                 127965\n",
       "Res / Organic Bin / Replace Damaged                124416\n",
       "Residential Furniture / Not Picked Up              109302\n",
       "Road - Pot hole                                     97685\n",
       "Sewer Service Line-Blocked                          97634\n",
       "General Pruning                                     94345\n",
       "CADAVER WILDLIFE                                    90610\n",
       "Storm Clean Up                                      81514\n",
       "Res / Garbage / Not Picked Up                       79509\n",
       "Res / Recycle / Not Picked Up                       74355\n",
       "Res / Organic Green Bin / Not Picked Up             71038\n",
       "Noise                                               65727\n",
       "INJUR/DIST WILDLIFE                                 60375\n",
       "Publication Request - Solid Waste                   60272\n",
       "Water Service Line-Turn Off                         56814\n",
       "Residential: Garbage Bin: Exchange to Medium        56573\n",
       "Residential: Bin: Repair or Replace Lid             54402\n",
       "Residential: Bin: Repair or Replace Body/Handle     50666\n",
       "Residential: Garbage Bin: Exchange to Small         48565\n",
       "Waste                                               47543\n",
       "Residential:Recycle Bin:Exchange to Extra Large     45981\n",
       "Missing/Damaged Signs                               44694\n",
       "Road - Cleaning/Debris                              43472\n",
       "All / Hazardous Waste / Pick Up Request             43403\n",
       "Long Grass and Weeds                                42771\n",
       "Stemming                                            42686\n",
       "Operator / Operations Complaint                     41346\n",
       "Zoning                                              40535\n",
       "Res / Organic Bin / Replace Missing                 39850\n",
       "Residential / Yard Waste / Not Picked Up            39223\n",
       "                                                    ...  \n",
       "Recycle / Park / Bin Graffiti on Bin                    5\n",
       "FEL Non-Res Yard Waste / Not Picked Up                  5\n",
       "ABCD's / Garbage Container / Missing Damaged            5\n",
       "ABCD's / Recycle / Additional Container                 4\n",
       "Publication Request - Accessibility                     4\n",
       "Call Back Request - IT                                  3\n",
       "Comm / Organic Container / Missing Damaged              3\n",
       "Application Mail Out / Non-Res                          3\n",
       "Staff Complaint                                         3\n",
       "ENF/INVEST TIED COLAR                                   2\n",
       "Property Damaged/PRM                                    2\n",
       "311 Staff Complaint                                     2\n",
       "SERVICES WILD EDUC                                      2\n",
       "TAS_COYOT RESP HU-BITE                                  2\n",
       "Application Status / Non-Res                            2\n",
       "FEL Non-Res Xmas Tree / Not Picked Up                   2\n",
       "Water Meter - Removal / Demolition                      2\n",
       "Tow Truck Complaint                                     1\n",
       "Public Transit Loading Zone                             1\n",
       "Water Meter-Seasonal Installation                       1\n",
       "Water and Sewer Service Applications                    1\n",
       "ENF/INVEST COLLAR                                       1\n",
       "Storm Event-Flooding                                    1\n",
       "Ravine Clr Park Access Permit                           1\n",
       "311 Staff Compliment                                    1\n",
       "SERVICES COMM EVENT                                     1\n",
       "OWNER SURR DECEASED                                     1\n",
       "Angle Parking                                           1\n",
       "SERVICES FOUND REP                                      1\n",
       "Development Applications                                1\n",
       "Name: service_request_type, Length: 619, dtype: int64"
      ]
     },
     "execution_count": 19,
     "metadata": {},
     "output_type": "execute_result"
    }
   ],
   "source": [
    "toronto311.service_request_type.value_counts()"
   ]
  },
  {
   "cell_type": "markdown",
   "metadata": {},
   "source": [
    "## Creat a dataframe about all the flooding complaints and format the date and time columns"
   ]
  },
  {
   "cell_type": "code",
   "execution_count": 20,
   "metadata": {},
   "outputs": [],
   "source": [
    "flooding = toronto311[toronto311.service_request_type == 'Catch Basin - Blocked / Flooding']"
   ]
  },
  {
   "cell_type": "code",
   "execution_count": 21,
   "metadata": {},
   "outputs": [
    {
     "name": "stderr",
     "output_type": "stream",
     "text": [
      "/Library/Frameworks/Python.framework/Versions/2.7/lib/python2.7/site-packages/ipykernel_launcher.py:1: SettingWithCopyWarning: \n",
      "A value is trying to be set on a copy of a slice from a DataFrame.\n",
      "Try using .loc[row_indexer,col_indexer] = value instead\n",
      "\n",
      "See the caveats in the documentation: http://pandas.pydata.org/pandas-docs/stable/indexing.html#indexing-view-versus-copy\n",
      "  \"\"\"Entry point for launching an IPython kernel.\n"
     ]
    }
   ],
   "source": [
    "flooding['creation_date']=pd.to_datetime(flooding['creation_date'])"
   ]
  },
  {
   "cell_type": "code",
   "execution_count": 22,
   "metadata": {},
   "outputs": [
    {
     "name": "stderr",
     "output_type": "stream",
     "text": [
      "/Library/Frameworks/Python.framework/Versions/2.7/lib/python2.7/site-packages/ipykernel_launcher.py:1: SettingWithCopyWarning: \n",
      "A value is trying to be set on a copy of a slice from a DataFrame.\n",
      "Try using .loc[row_indexer,col_indexer] = value instead\n",
      "\n",
      "See the caveats in the documentation: http://pandas.pydata.org/pandas-docs/stable/indexing.html#indexing-view-versus-copy\n",
      "  \"\"\"Entry point for launching an IPython kernel.\n"
     ]
    }
   ],
   "source": [
    "flooding['Dates'] = pd.to_datetime(flooding['creation_date']).dt.date"
   ]
  },
  {
   "cell_type": "code",
   "execution_count": 23,
   "metadata": {},
   "outputs": [
    {
     "name": "stderr",
     "output_type": "stream",
     "text": [
      "/Library/Frameworks/Python.framework/Versions/2.7/lib/python2.7/site-packages/ipykernel_launcher.py:1: SettingWithCopyWarning: \n",
      "A value is trying to be set on a copy of a slice from a DataFrame.\n",
      "Try using .loc[row_indexer,col_indexer] = value instead\n",
      "\n",
      "See the caveats in the documentation: http://pandas.pydata.org/pandas-docs/stable/indexing.html#indexing-view-versus-copy\n",
      "  \"\"\"Entry point for launching an IPython kernel.\n"
     ]
    }
   ],
   "source": [
    "flooding['time'] = pd.to_datetime(flooding['creation_date']).dt.time"
   ]
  },
  {
   "cell_type": "code",
   "execution_count": 24,
   "metadata": {},
   "outputs": [
    {
     "name": "stderr",
     "output_type": "stream",
     "text": [
      "/Library/Frameworks/Python.framework/Versions/2.7/lib/python2.7/site-packages/ipykernel_launcher.py:1: SettingWithCopyWarning: \n",
      "A value is trying to be set on a copy of a slice from a DataFrame.\n",
      "Try using .loc[row_indexer,col_indexer] = value instead\n",
      "\n",
      "See the caveats in the documentation: http://pandas.pydata.org/pandas-docs/stable/indexing.html#indexing-view-versus-copy\n",
      "  \"\"\"Entry point for launching an IPython kernel.\n"
     ]
    }
   ],
   "source": [
    "flooding['year'] = pd.to_datetime(flooding['creation_date']).dt.year"
   ]
  },
  {
   "cell_type": "code",
   "execution_count": 25,
   "metadata": {},
   "outputs": [
    {
     "name": "stderr",
     "output_type": "stream",
     "text": [
      "/Library/Frameworks/Python.framework/Versions/2.7/lib/python2.7/site-packages/ipykernel_launcher.py:1: SettingWithCopyWarning: \n",
      "A value is trying to be set on a copy of a slice from a DataFrame.\n",
      "Try using .loc[row_indexer,col_indexer] = value instead\n",
      "\n",
      "See the caveats in the documentation: http://pandas.pydata.org/pandas-docs/stable/indexing.html#indexing-view-versus-copy\n",
      "  \"\"\"Entry point for launching an IPython kernel.\n"
     ]
    }
   ],
   "source": [
    "flooding['day'] = pd.to_datetime(flooding['creation_date']).dt.day"
   ]
  },
  {
   "cell_type": "code",
   "execution_count": 26,
   "metadata": {},
   "outputs": [
    {
     "data": {
      "text/html": [
       "<div>\n",
       "<style scoped>\n",
       "    .dataframe tbody tr th:only-of-type {\n",
       "        vertical-align: middle;\n",
       "    }\n",
       "\n",
       "    .dataframe tbody tr th {\n",
       "        vertical-align: top;\n",
       "    }\n",
       "\n",
       "    .dataframe thead th {\n",
       "        text-align: right;\n",
       "    }\n",
       "</style>\n",
       "<table border=\"1\" class=\"dataframe\">\n",
       "  <thead>\n",
       "    <tr style=\"text-align: right;\">\n",
       "      <th></th>\n",
       "      <th>creation_date</th>\n",
       "      <th>status</th>\n",
       "      <th>first_3_chars_of_postal_code</th>\n",
       "      <th>intersection_street_1</th>\n",
       "      <th>intersection_street_2</th>\n",
       "      <th>ward</th>\n",
       "      <th>service_request_type</th>\n",
       "      <th>division</th>\n",
       "      <th>section</th>\n",
       "      <th>Dates</th>\n",
       "      <th>time</th>\n",
       "      <th>year</th>\n",
       "      <th>day</th>\n",
       "    </tr>\n",
       "  </thead>\n",
       "  <tbody>\n",
       "    <tr>\n",
       "      <th>70</th>\n",
       "      <td>2010-01-01 18:29:17</td>\n",
       "      <td>Closed</td>\n",
       "      <td>M6N</td>\n",
       "      <td>NaN</td>\n",
       "      <td>NaN</td>\n",
       "      <td>York South-Weston (11)</td>\n",
       "      <td>Catch Basin - Blocked / Flooding</td>\n",
       "      <td>Transportation Services</td>\n",
       "      <td>Road Operations</td>\n",
       "      <td>2010-01-01</td>\n",
       "      <td>18:29:17</td>\n",
       "      <td>2010</td>\n",
       "      <td>1</td>\n",
       "    </tr>\n",
       "    <tr>\n",
       "      <th>727</th>\n",
       "      <td>2010-01-04 10:49:12</td>\n",
       "      <td>Closed</td>\n",
       "      <td>M6M</td>\n",
       "      <td>NaN</td>\n",
       "      <td>NaN</td>\n",
       "      <td>York South-Weston (12)</td>\n",
       "      <td>Catch Basin - Blocked / Flooding</td>\n",
       "      <td>Transportation Services</td>\n",
       "      <td>Road Operations</td>\n",
       "      <td>2010-01-04</td>\n",
       "      <td>10:49:12</td>\n",
       "      <td>2010</td>\n",
       "      <td>4</td>\n",
       "    </tr>\n",
       "    <tr>\n",
       "      <th>3218</th>\n",
       "      <td>2010-01-07 18:56:14</td>\n",
       "      <td>Closed</td>\n",
       "      <td>Intersection</td>\n",
       "      <td>Islington Ave</td>\n",
       "      <td>Rexdale Blvd</td>\n",
       "      <td>Etobicoke North (02)</td>\n",
       "      <td>Catch Basin - Blocked / Flooding</td>\n",
       "      <td>Transportation Services</td>\n",
       "      <td>Road Operations</td>\n",
       "      <td>2010-01-07</td>\n",
       "      <td>18:56:14</td>\n",
       "      <td>2010</td>\n",
       "      <td>7</td>\n",
       "    </tr>\n",
       "    <tr>\n",
       "      <th>4424</th>\n",
       "      <td>2010-01-11 10:28:13</td>\n",
       "      <td>Closed</td>\n",
       "      <td>M5M</td>\n",
       "      <td>NaN</td>\n",
       "      <td>NaN</td>\n",
       "      <td>Eglinton-Lawrence (16)</td>\n",
       "      <td>Catch Basin - Blocked / Flooding</td>\n",
       "      <td>Transportation Services</td>\n",
       "      <td>Road Operations</td>\n",
       "      <td>2010-01-11</td>\n",
       "      <td>10:28:13</td>\n",
       "      <td>2010</td>\n",
       "      <td>11</td>\n",
       "    </tr>\n",
       "    <tr>\n",
       "      <th>6205</th>\n",
       "      <td>2010-01-14 11:42:18</td>\n",
       "      <td>Closed</td>\n",
       "      <td>M8X</td>\n",
       "      <td>NaN</td>\n",
       "      <td>NaN</td>\n",
       "      <td>Etobicoke-Lakeshore (05)</td>\n",
       "      <td>Catch Basin - Blocked / Flooding</td>\n",
       "      <td>Transportation Services</td>\n",
       "      <td>Road Operations</td>\n",
       "      <td>2010-01-14</td>\n",
       "      <td>11:42:18</td>\n",
       "      <td>2010</td>\n",
       "      <td>14</td>\n",
       "    </tr>\n",
       "    <tr>\n",
       "      <th>6438</th>\n",
       "      <td>2010-01-14 15:57:54</td>\n",
       "      <td>Closed</td>\n",
       "      <td>M8Y</td>\n",
       "      <td>NaN</td>\n",
       "      <td>NaN</td>\n",
       "      <td>Etobicoke-Lakeshore (05)</td>\n",
       "      <td>Catch Basin - Blocked / Flooding</td>\n",
       "      <td>Transportation Services</td>\n",
       "      <td>Road Operations</td>\n",
       "      <td>2010-01-14</td>\n",
       "      <td>15:57:54</td>\n",
       "      <td>2010</td>\n",
       "      <td>14</td>\n",
       "    </tr>\n",
       "    <tr>\n",
       "      <th>6586</th>\n",
       "      <td>2010-01-15 07:40:26</td>\n",
       "      <td>Closed</td>\n",
       "      <td>M9N</td>\n",
       "      <td>NaN</td>\n",
       "      <td>NaN</td>\n",
       "      <td>York South-Weston (11)</td>\n",
       "      <td>Catch Basin - Blocked / Flooding</td>\n",
       "      <td>Transportation Services</td>\n",
       "      <td>Road Operations</td>\n",
       "      <td>2010-01-15</td>\n",
       "      <td>07:40:26</td>\n",
       "      <td>2010</td>\n",
       "      <td>15</td>\n",
       "    </tr>\n",
       "    <tr>\n",
       "      <th>6818</th>\n",
       "      <td>2010-01-15 11:19:05</td>\n",
       "      <td>Closed</td>\n",
       "      <td>M6H</td>\n",
       "      <td>NaN</td>\n",
       "      <td>NaN</td>\n",
       "      <td>Davenport (18)</td>\n",
       "      <td>Catch Basin - Blocked / Flooding</td>\n",
       "      <td>Transportation Services</td>\n",
       "      <td>Road Operations</td>\n",
       "      <td>2010-01-15</td>\n",
       "      <td>11:19:05</td>\n",
       "      <td>2010</td>\n",
       "      <td>15</td>\n",
       "    </tr>\n",
       "    <tr>\n",
       "      <th>6882</th>\n",
       "      <td>2010-01-15 12:30:17</td>\n",
       "      <td>Closed</td>\n",
       "      <td>M1X</td>\n",
       "      <td>NaN</td>\n",
       "      <td>NaN</td>\n",
       "      <td>Scarborough-Rouge River (42)</td>\n",
       "      <td>Catch Basin - Blocked / Flooding</td>\n",
       "      <td>Transportation Services</td>\n",
       "      <td>Road Operations</td>\n",
       "      <td>2010-01-15</td>\n",
       "      <td>12:30:17</td>\n",
       "      <td>2010</td>\n",
       "      <td>15</td>\n",
       "    </tr>\n",
       "    <tr>\n",
       "      <th>7101</th>\n",
       "      <td>2010-01-15 16:34:57</td>\n",
       "      <td>Closed</td>\n",
       "      <td>M4J</td>\n",
       "      <td>NaN</td>\n",
       "      <td>NaN</td>\n",
       "      <td>Toronto-Danforth (29)</td>\n",
       "      <td>Catch Basin - Blocked / Flooding</td>\n",
       "      <td>Transportation Services</td>\n",
       "      <td>Road Operations</td>\n",
       "      <td>2010-01-15</td>\n",
       "      <td>16:34:57</td>\n",
       "      <td>2010</td>\n",
       "      <td>15</td>\n",
       "    </tr>\n",
       "  </tbody>\n",
       "</table>\n",
       "</div>"
      ],
      "text/plain": [
       "           creation_date  status first_3_chars_of_postal_code  \\\n",
       "70   2010-01-01 18:29:17  Closed                          M6N   \n",
       "727  2010-01-04 10:49:12  Closed                          M6M   \n",
       "3218 2010-01-07 18:56:14  Closed                 Intersection   \n",
       "4424 2010-01-11 10:28:13  Closed                          M5M   \n",
       "6205 2010-01-14 11:42:18  Closed                          M8X   \n",
       "6438 2010-01-14 15:57:54  Closed                          M8Y   \n",
       "6586 2010-01-15 07:40:26  Closed                          M9N   \n",
       "6818 2010-01-15 11:19:05  Closed                          M6H   \n",
       "6882 2010-01-15 12:30:17  Closed                          M1X   \n",
       "7101 2010-01-15 16:34:57  Closed                          M4J   \n",
       "\n",
       "     intersection_street_1 intersection_street_2  \\\n",
       "70                     NaN                   NaN   \n",
       "727                    NaN                   NaN   \n",
       "3218         Islington Ave          Rexdale Blvd   \n",
       "4424                   NaN                   NaN   \n",
       "6205                   NaN                   NaN   \n",
       "6438                   NaN                   NaN   \n",
       "6586                   NaN                   NaN   \n",
       "6818                   NaN                   NaN   \n",
       "6882                   NaN                   NaN   \n",
       "7101                   NaN                   NaN   \n",
       "\n",
       "                              ward              service_request_type  \\\n",
       "70          York South-Weston (11)  Catch Basin - Blocked / Flooding   \n",
       "727         York South-Weston (12)  Catch Basin - Blocked / Flooding   \n",
       "3218          Etobicoke North (02)  Catch Basin - Blocked / Flooding   \n",
       "4424        Eglinton-Lawrence (16)  Catch Basin - Blocked / Flooding   \n",
       "6205      Etobicoke-Lakeshore (05)  Catch Basin - Blocked / Flooding   \n",
       "6438      Etobicoke-Lakeshore (05)  Catch Basin - Blocked / Flooding   \n",
       "6586        York South-Weston (11)  Catch Basin - Blocked / Flooding   \n",
       "6818                Davenport (18)  Catch Basin - Blocked / Flooding   \n",
       "6882  Scarborough-Rouge River (42)  Catch Basin - Blocked / Flooding   \n",
       "7101         Toronto-Danforth (29)  Catch Basin - Blocked / Flooding   \n",
       "\n",
       "                     division          section       Dates      time  year  \\\n",
       "70    Transportation Services  Road Operations  2010-01-01  18:29:17  2010   \n",
       "727   Transportation Services  Road Operations  2010-01-04  10:49:12  2010   \n",
       "3218  Transportation Services  Road Operations  2010-01-07  18:56:14  2010   \n",
       "4424  Transportation Services  Road Operations  2010-01-11  10:28:13  2010   \n",
       "6205  Transportation Services  Road Operations  2010-01-14  11:42:18  2010   \n",
       "6438  Transportation Services  Road Operations  2010-01-14  15:57:54  2010   \n",
       "6586  Transportation Services  Road Operations  2010-01-15  07:40:26  2010   \n",
       "6818  Transportation Services  Road Operations  2010-01-15  11:19:05  2010   \n",
       "6882  Transportation Services  Road Operations  2010-01-15  12:30:17  2010   \n",
       "7101  Transportation Services  Road Operations  2010-01-15  16:34:57  2010   \n",
       "\n",
       "      day  \n",
       "70      1  \n",
       "727     4  \n",
       "3218    7  \n",
       "4424   11  \n",
       "6205   14  \n",
       "6438   14  \n",
       "6586   15  \n",
       "6818   15  \n",
       "6882   15  \n",
       "7101   15  "
      ]
     },
     "execution_count": 26,
     "metadata": {},
     "output_type": "execute_result"
    }
   ],
   "source": [
    "flooding.head(10)"
   ]
  },
  {
   "cell_type": "code",
   "execution_count": 27,
   "metadata": {},
   "outputs": [],
   "source": [
    "flooding.to_csv('flooding.csv')"
   ]
  },
  {
   "cell_type": "markdown",
   "metadata": {},
   "source": [
    "###### Among 3345 dats from Jan 1, 2010 to Feb 28, 2019 (the latest update of the data), 2680 days have complaints on flooding."
   ]
  },
  {
   "cell_type": "code",
   "execution_count": 28,
   "metadata": {},
   "outputs": [],
   "source": [
    "flooding_date = flooding.Dates.value_counts().reset_index()"
   ]
  },
  {
   "cell_type": "code",
   "execution_count": 29,
   "metadata": {},
   "outputs": [
    {
     "name": "stdout",
     "output_type": "stream",
     "text": [
      "<class 'pandas.core.frame.DataFrame'>\n",
      "RangeIndex: 2680 entries, 0 to 2679\n",
      "Data columns (total 2 columns):\n",
      "index    2680 non-null object\n",
      "Dates    2680 non-null int64\n",
      "dtypes: int64(1), object(1)\n",
      "memory usage: 41.9+ KB\n"
     ]
    }
   ],
   "source": [
    "flooding_date.info()"
   ]
  },
  {
   "cell_type": "code",
   "execution_count": 37,
   "metadata": {},
   "outputs": [],
   "source": [
    "flooding_date = flooding_date.rename(index=str, columns={\"index\": \"date\", \"Dates\": \"counts\"})"
   ]
  },
  {
   "cell_type": "code",
   "execution_count": 38,
   "metadata": {},
   "outputs": [
    {
     "data": {
      "text/html": [
       "<div>\n",
       "<style scoped>\n",
       "    .dataframe tbody tr th:only-of-type {\n",
       "        vertical-align: middle;\n",
       "    }\n",
       "\n",
       "    .dataframe tbody tr th {\n",
       "        vertical-align: top;\n",
       "    }\n",
       "\n",
       "    .dataframe thead th {\n",
       "        text-align: right;\n",
       "    }\n",
       "</style>\n",
       "<table border=\"1\" class=\"dataframe\">\n",
       "  <thead>\n",
       "    <tr style=\"text-align: right;\">\n",
       "      <th></th>\n",
       "      <th>date</th>\n",
       "      <th>counts</th>\n",
       "    </tr>\n",
       "  </thead>\n",
       "  <tbody>\n",
       "    <tr>\n",
       "      <th>0</th>\n",
       "      <td>2014-02-21</td>\n",
       "      <td>467</td>\n",
       "    </tr>\n",
       "    <tr>\n",
       "      <th>1</th>\n",
       "      <td>2014-02-20</td>\n",
       "      <td>452</td>\n",
       "    </tr>\n",
       "    <tr>\n",
       "      <th>2</th>\n",
       "      <td>2014-02-19</td>\n",
       "      <td>334</td>\n",
       "    </tr>\n",
       "    <tr>\n",
       "      <th>3</th>\n",
       "      <td>2014-10-16</td>\n",
       "      <td>333</td>\n",
       "    </tr>\n",
       "    <tr>\n",
       "      <th>4</th>\n",
       "      <td>2014-01-11</td>\n",
       "      <td>278</td>\n",
       "    </tr>\n",
       "  </tbody>\n",
       "</table>\n",
       "</div>"
      ],
      "text/plain": [
       "         date  counts\n",
       "0  2014-02-21     467\n",
       "1  2014-02-20     452\n",
       "2  2014-02-19     334\n",
       "3  2014-10-16     333\n",
       "4  2014-01-11     278"
      ]
     },
     "execution_count": 38,
     "metadata": {},
     "output_type": "execute_result"
    }
   ],
   "source": [
    "flooding_date.head(5)\n"
   ]
  },
  {
   "cell_type": "code",
   "execution_count": 39,
   "metadata": {},
   "outputs": [],
   "source": [
    "flooding_date['date'] = pd.to_datetime(flooding_date['date'])"
   ]
  },
  {
   "cell_type": "code",
   "execution_count": 41,
   "metadata": {},
   "outputs": [
    {
     "name": "stdout",
     "output_type": "stream",
     "text": [
      "<class 'pandas.core.frame.DataFrame'>\n",
      "Index: 2680 entries, 0 to 2679\n",
      "Data columns (total 2 columns):\n",
      "date      2680 non-null datetime64[ns]\n",
      "counts    2680 non-null int64\n",
      "dtypes: datetime64[ns](1), int64(1)\n",
      "memory usage: 62.8+ KB\n"
     ]
    }
   ],
   "source": [
    "flooding_date.info()"
   ]
  },
  {
   "cell_type": "code",
   "execution_count": 43,
   "metadata": {},
   "outputs": [],
   "source": [
    "flooding_date.to_csv('flooding_date.csv')"
   ]
  },
  {
   "cell_type": "code",
   "execution_count": 45,
   "metadata": {},
   "outputs": [],
   "source": [
    "flooding_date = pd.read_csv('flooding_date.csv')"
   ]
  },
  {
   "cell_type": "code",
   "execution_count": 51,
   "metadata": {},
   "outputs": [
    {
     "data": {
      "text/html": [
       "<div>\n",
       "<style scoped>\n",
       "    .dataframe tbody tr th:only-of-type {\n",
       "        vertical-align: middle;\n",
       "    }\n",
       "\n",
       "    .dataframe tbody tr th {\n",
       "        vertical-align: top;\n",
       "    }\n",
       "\n",
       "    .dataframe thead th {\n",
       "        text-align: right;\n",
       "    }\n",
       "</style>\n",
       "<table border=\"1\" class=\"dataframe\">\n",
       "  <thead>\n",
       "    <tr style=\"text-align: right;\">\n",
       "      <th></th>\n",
       "      <th>Unnamed: 0</th>\n",
       "      <th>date</th>\n",
       "      <th>counts</th>\n",
       "      <th>year</th>\n",
       "      <th>Unnamed: 4</th>\n",
       "    </tr>\n",
       "  </thead>\n",
       "  <tbody>\n",
       "    <tr>\n",
       "      <th>0</th>\n",
       "      <td>2500</td>\n",
       "      <td>2010-01-01</td>\n",
       "      <td>1</td>\n",
       "      <td>2010</td>\n",
       "      <td>NaN</td>\n",
       "    </tr>\n",
       "    <tr>\n",
       "      <th>1</th>\n",
       "      <td>2453</td>\n",
       "      <td>2010-01-04</td>\n",
       "      <td>1</td>\n",
       "      <td>2010</td>\n",
       "      <td>NaN</td>\n",
       "    </tr>\n",
       "    <tr>\n",
       "      <th>2</th>\n",
       "      <td>2143</td>\n",
       "      <td>2010-01-07</td>\n",
       "      <td>1</td>\n",
       "      <td>2010</td>\n",
       "      <td>NaN</td>\n",
       "    </tr>\n",
       "    <tr>\n",
       "      <th>3</th>\n",
       "      <td>2229</td>\n",
       "      <td>2010-01-11</td>\n",
       "      <td>1</td>\n",
       "      <td>2010</td>\n",
       "      <td>NaN</td>\n",
       "    </tr>\n",
       "    <tr>\n",
       "      <th>4</th>\n",
       "      <td>1858</td>\n",
       "      <td>2010-01-14</td>\n",
       "      <td>2</td>\n",
       "      <td>2010</td>\n",
       "      <td>NaN</td>\n",
       "    </tr>\n",
       "  </tbody>\n",
       "</table>\n",
       "</div>"
      ],
      "text/plain": [
       "   Unnamed: 0        date  counts  year  Unnamed: 4\n",
       "0        2500  2010-01-01       1  2010         NaN\n",
       "1        2453  2010-01-04       1  2010         NaN\n",
       "2        2143  2010-01-07       1  2010         NaN\n",
       "3        2229  2010-01-11       1  2010         NaN\n",
       "4        1858  2010-01-14       2  2010         NaN"
      ]
     },
     "execution_count": 51,
     "metadata": {},
     "output_type": "execute_result"
    }
   ],
   "source": [
    "flooding_date.head()"
   ]
  },
  {
   "cell_type": "code",
   "execution_count": 67,
   "metadata": {},
   "outputs": [],
   "source": [
    "idx = pd.date_range('2010-01-01', '2019-02-28')"
   ]
  },
  {
   "cell_type": "code",
   "execution_count": 69,
   "metadata": {},
   "outputs": [
    {
     "name": "stdout",
     "output_type": "stream",
     "text": [
      "<class 'pandas.core.frame.DataFrame'>\n",
      "RangeIndex: 2680 entries, 0 to 2679\n",
      "Data columns (total 5 columns):\n",
      "Unnamed: 0    2680 non-null int64\n",
      "date          2680 non-null object\n",
      "counts        2680 non-null int64\n",
      "year          2680 non-null int64\n",
      "Unnamed: 4    0 non-null float64\n",
      "dtypes: float64(1), int64(3), object(1)\n",
      "memory usage: 104.8+ KB\n"
     ]
    }
   ],
   "source": [
    "flooding_date.info()"
   ]
  },
  {
   "cell_type": "code",
   "execution_count": 77,
   "metadata": {},
   "outputs": [],
   "source": [
    "flooding_date.index = pd.DatetimeIndex(flooding_date.index)"
   ]
  },
  {
   "cell_type": "code",
   "execution_count": 78,
   "metadata": {},
   "outputs": [
    {
     "data": {
      "text/html": [
       "<div>\n",
       "<style scoped>\n",
       "    .dataframe tbody tr th:only-of-type {\n",
       "        vertical-align: middle;\n",
       "    }\n",
       "\n",
       "    .dataframe tbody tr th {\n",
       "        vertical-align: top;\n",
       "    }\n",
       "\n",
       "    .dataframe thead th {\n",
       "        text-align: right;\n",
       "    }\n",
       "</style>\n",
       "<table border=\"1\" class=\"dataframe\">\n",
       "  <thead>\n",
       "    <tr style=\"text-align: right;\">\n",
       "      <th></th>\n",
       "      <th>Unnamed: 0</th>\n",
       "      <th>date</th>\n",
       "      <th>counts</th>\n",
       "      <th>year</th>\n",
       "      <th>Unnamed: 4</th>\n",
       "    </tr>\n",
       "  </thead>\n",
       "  <tbody>\n",
       "    <tr>\n",
       "      <th>2010-01-01</th>\n",
       "      <td>0</td>\n",
       "      <td>0</td>\n",
       "      <td>0</td>\n",
       "      <td>0</td>\n",
       "      <td>0.0</td>\n",
       "    </tr>\n",
       "    <tr>\n",
       "      <th>2010-01-02</th>\n",
       "      <td>0</td>\n",
       "      <td>0</td>\n",
       "      <td>0</td>\n",
       "      <td>0</td>\n",
       "      <td>0.0</td>\n",
       "    </tr>\n",
       "    <tr>\n",
       "      <th>2010-01-03</th>\n",
       "      <td>0</td>\n",
       "      <td>0</td>\n",
       "      <td>0</td>\n",
       "      <td>0</td>\n",
       "      <td>0.0</td>\n",
       "    </tr>\n",
       "    <tr>\n",
       "      <th>2010-01-04</th>\n",
       "      <td>0</td>\n",
       "      <td>0</td>\n",
       "      <td>0</td>\n",
       "      <td>0</td>\n",
       "      <td>0.0</td>\n",
       "    </tr>\n",
       "    <tr>\n",
       "      <th>2010-01-05</th>\n",
       "      <td>0</td>\n",
       "      <td>0</td>\n",
       "      <td>0</td>\n",
       "      <td>0</td>\n",
       "      <td>0.0</td>\n",
       "    </tr>\n",
       "  </tbody>\n",
       "</table>\n",
       "</div>"
      ],
      "text/plain": [
       "            Unnamed: 0 date  counts  year  Unnamed: 4\n",
       "2010-01-01           0    0       0     0         0.0\n",
       "2010-01-02           0    0       0     0         0.0\n",
       "2010-01-03           0    0       0     0         0.0\n",
       "2010-01-04           0    0       0     0         0.0\n",
       "2010-01-05           0    0       0     0         0.0"
      ]
     },
     "execution_count": 78,
     "metadata": {},
     "output_type": "execute_result"
    }
   ],
   "source": [
    "flooding_date.head()"
   ]
  },
  {
   "cell_type": "code",
   "execution_count": null,
   "metadata": {},
   "outputs": [],
   "source": []
  }
 ],
 "metadata": {
  "kernelspec": {
   "display_name": "Python 2",
   "language": "python",
   "name": "python2"
  },
  "language_info": {
   "codemirror_mode": {
    "name": "ipython",
    "version": 2
   },
   "file_extension": ".py",
   "mimetype": "text/x-python",
   "name": "python",
   "nbconvert_exporter": "python",
   "pygments_lexer": "ipython2",
   "version": "2.7.15"
  }
 },
 "nbformat": 4,
 "nbformat_minor": 2
}
